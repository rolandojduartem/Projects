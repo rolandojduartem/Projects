{
 "cells": [
  {
   "cell_type": "markdown",
   "metadata": {},
   "source": [
    "# Dogs and cats classifier usin convolutional neural network\n",
    "Dataset contains 4000 images (2000 dogs and 2000 cats), dataset is divided in train set (2000 images), validation set (1000 images) and test set (1000 images)\n"
   ]
  },
  {
   "cell_type": "markdown",
   "metadata": {},
   "source": [
    "## Importing libraries and dataset"
   ]
  },
  {
   "cell_type": "code",
   "execution_count": 1,
   "metadata": {},
   "outputs": [],
   "source": [
    "import os\n",
    "import numpy as np\n",
    "import pandas as pd\n",
    "%matplotlib inline\n",
    "import matplotlib as mpl\n",
    "import matplotlib.pyplot as plt"
   ]
  },
  {
   "cell_type": "code",
   "execution_count": 2,
   "metadata": {},
   "outputs": [],
   "source": [
    "#Directories\n",
    "train_dir = r\".\\train\"\n",
    "valid_dir = r\".\\validation\"\n",
    "test_dir = r\".\\test\""
   ]
  },
  {
   "cell_type": "markdown",
   "metadata": {},
   "source": [
    "## Data preprocessing\n",
    "- Read picture's directory\n",
    "- Decode .jpeg images to RGB (3 channels)\n",
    "- Convert tod¿se RGB channels to floating point tensor\n",
    "- Rescale the pixel values (between 0 and 255) to the [0, 1] interval"
   ]
  },
  {
   "cell_type": "code",
   "execution_count": 3,
   "metadata": {},
   "outputs": [],
   "source": [
    "from tensorflow.keras.preprocessing.image import ImageDataGenerator"
   ]
  },
  {
   "cell_type": "code",
   "execution_count": 12,
   "metadata": {},
   "outputs": [
    {
     "name": "stdout",
     "output_type": "stream",
     "text": [
      "Found 2000 images belonging to 2 classes.\n",
      "Found 1000 images belonging to 2 classes.\n"
     ]
    }
   ],
   "source": [
    "#Generating tensor image data\n",
    "train_datagen = ImageDataGenerator(rescale = 1 / 255)\n",
    "test_datagen = ImageDataGenerator(rescale = 1 / 255)\n",
    "\n",
    "train_generator = train_datagen.flow_from_directory(\n",
    "    train_dir,\n",
    "    target_size = (150, 150),\n",
    "    batch_size = 20,\n",
    "    class_mode = \"binary\"\n",
    ")\n",
    "\n",
    "\n",
    "validation_generator = test_datagen.flow_from_directory(\n",
    "    valid_dir,\n",
    "    target_size = (150, 150),\n",
    "    batch_size = 20,\n",
    "    class_mode = \"binary\"\n",
    ")"
   ]
  },
  {
   "cell_type": "markdown",
   "metadata": {},
   "source": [
    "## Creating sequential CNN model"
   ]
  },
  {
   "cell_type": "code",
   "execution_count": 4,
   "metadata": {},
   "outputs": [],
   "source": [
    "import tensorflow as tf\n",
    "from tensorflow.keras.models import Sequential\n",
    "from tensorflow.keras.layers import Conv2D, MaxPooling2D, Flatten, Dense, Dropout"
   ]
  },
  {
   "cell_type": "code",
   "execution_count": 6,
   "metadata": {},
   "outputs": [],
   "source": [
    "np.random.seed(42)\n",
    "tf.random.set_seed(42)"
   ]
  },
  {
   "cell_type": "code",
   "execution_count": 25,
   "metadata": {},
   "outputs": [],
   "source": [
    "model = Sequential([\n",
    "    Conv2D(filters = 32, kernel_size = (3, 3), activation = \"relu\", input_shape = (150, 150, 3)),\n",
    "    MaxPooling2D((2, 2)),\n",
    "    \n",
    "    Conv2D(filters = 64, kernel_size = (3, 3), activation = \"relu\"),\n",
    "    MaxPooling2D((2, 2)),\n",
    "    \n",
    "    Conv2D(filters = 128, kernel_size = (3, 3), activation = \"relu\"),\n",
    "    MaxPooling2D((2, 2)),\n",
    "    \n",
    "    Conv2D(filters = 128, kernel_size = (3, 3), activation = \"relu\"),\n",
    "    MaxPooling2D((2, 2)),\n",
    "    \n",
    "    Flatten(),\n",
    "    Dense(512, activation = \"relu\"),\n",
    "    Dense(1, activation = \"sigmoid\")\n",
    "])"
   ]
  },
  {
   "cell_type": "code",
   "execution_count": 26,
   "metadata": {},
   "outputs": [
    {
     "name": "stdout",
     "output_type": "stream",
     "text": [
      "Model: \"sequential\"\n",
      "_________________________________________________________________\n",
      "Layer (type)                 Output Shape              Param #   \n",
      "=================================================================\n",
      "conv2d (Conv2D)              (None, 148, 148, 32)      896       \n",
      "_________________________________________________________________\n",
      "max_pooling2d (MaxPooling2D) (None, 74, 74, 32)        0         \n",
      "_________________________________________________________________\n",
      "conv2d_1 (Conv2D)            (None, 72, 72, 64)        18496     \n",
      "_________________________________________________________________\n",
      "max_pooling2d_1 (MaxPooling2 (None, 36, 36, 64)        0         \n",
      "_________________________________________________________________\n",
      "conv2d_2 (Conv2D)            (None, 34, 34, 128)       73856     \n",
      "_________________________________________________________________\n",
      "max_pooling2d_2 (MaxPooling2 (None, 17, 17, 128)       0         \n",
      "_________________________________________________________________\n",
      "conv2d_3 (Conv2D)            (None, 15, 15, 128)       147584    \n",
      "_________________________________________________________________\n",
      "max_pooling2d_3 (MaxPooling2 (None, 7, 7, 128)         0         \n",
      "_________________________________________________________________\n",
      "flatten (Flatten)            (None, 6272)              0         \n",
      "_________________________________________________________________\n",
      "dense (Dense)                (None, 512)               3211776   \n",
      "_________________________________________________________________\n",
      "dense_1 (Dense)              (None, 1)                 513       \n",
      "=================================================================\n",
      "Total params: 3,453,121\n",
      "Trainable params: 3,453,121\n",
      "Non-trainable params: 0\n",
      "_________________________________________________________________\n"
     ]
    }
   ],
   "source": [
    "model.summary()"
   ]
  },
  {
   "cell_type": "code",
   "execution_count": 27,
   "metadata": {},
   "outputs": [],
   "source": [
    "model.compile(loss = \"binary_crossentropy\",\n",
    "             optimizer = tf.keras.optimizers.RMSprop(lr = 1e-4),\n",
    "             metrics = [\"accuracy\"]\n",
    ")"
   ]
  },
  {
   "cell_type": "code",
   "execution_count": 28,
   "metadata": {},
   "outputs": [
    {
     "name": "stderr",
     "output_type": "stream",
     "text": [
      "C:\\Users\\Rolando\\anaconda3\\lib\\site-packages\\tensorflow\\python\\keras\\engine\\training.py:1844: UserWarning: `Model.fit_generator` is deprecated and will be removed in a future version. Please use `Model.fit`, which supports generators.\n",
      "  warnings.warn('`Model.fit_generator` is deprecated and '\n"
     ]
    },
    {
     "name": "stdout",
     "output_type": "stream",
     "text": [
      "Epoch 1/20\n",
      "100/100 [==============================] - 80s 791ms/step - loss: 0.6998 - accuracy: 0.5096 - val_loss: 0.6787 - val_accuracy: 0.5910\n",
      "Epoch 2/20\n",
      "100/100 [==============================] - 83s 829ms/step - loss: 0.6708 - accuracy: 0.5985 - val_loss: 0.6444 - val_accuracy: 0.6300\n",
      "Epoch 3/20\n",
      "100/100 [==============================] - 80s 801ms/step - loss: 0.6266 - accuracy: 0.6507 - val_loss: 0.6363 - val_accuracy: 0.6300\n",
      "Epoch 4/20\n",
      "100/100 [==============================] - 73s 733ms/step - loss: 0.5838 - accuracy: 0.6961 - val_loss: 0.6380 - val_accuracy: 0.6300\n",
      "Epoch 5/20\n",
      "100/100 [==============================] - 76s 758ms/step - loss: 0.5446 - accuracy: 0.7202 - val_loss: 0.5866 - val_accuracy: 0.6840\n",
      "Epoch 6/20\n",
      "100/100 [==============================] - 98s 986ms/step - loss: 0.5216 - accuracy: 0.7295 - val_loss: 0.5973 - val_accuracy: 0.6680\n",
      "Epoch 7/20\n",
      "100/100 [==============================] - 94s 940ms/step - loss: 0.4942 - accuracy: 0.7470 - val_loss: 0.5641 - val_accuracy: 0.7020\n",
      "Epoch 8/20\n",
      "100/100 [==============================] - 93s 927ms/step - loss: 0.4724 - accuracy: 0.7669 - val_loss: 0.5514 - val_accuracy: 0.7240\n",
      "Epoch 9/20\n",
      "100/100 [==============================] - 97s 966ms/step - loss: 0.4394 - accuracy: 0.7854 - val_loss: 0.5543 - val_accuracy: 0.7220\n",
      "Epoch 10/20\n",
      "100/100 [==============================] - 96s 956ms/step - loss: 0.3982 - accuracy: 0.8198 - val_loss: 0.6775 - val_accuracy: 0.6770\n",
      "Epoch 11/20\n",
      "100/100 [==============================] - 93s 929ms/step - loss: 0.3976 - accuracy: 0.8214 - val_loss: 0.5448 - val_accuracy: 0.7410\n",
      "Epoch 12/20\n",
      "100/100 [==============================] - 95s 954ms/step - loss: 0.3830 - accuracy: 0.8457 - val_loss: 0.5569 - val_accuracy: 0.7330\n",
      "Epoch 13/20\n",
      "100/100 [==============================] - 95s 950ms/step - loss: 0.3434 - accuracy: 0.8444 - val_loss: 0.5590 - val_accuracy: 0.7340\n",
      "Epoch 14/20\n",
      "100/100 [==============================] - 99s 991ms/step - loss: 0.3314 - accuracy: 0.8589 - val_loss: 0.5731 - val_accuracy: 0.7250\n",
      "Epoch 15/20\n",
      "100/100 [==============================] - 102s 1s/step - loss: 0.3109 - accuracy: 0.8794 - val_loss: 0.5842 - val_accuracy: 0.7340\n",
      "Epoch 16/20\n",
      "100/100 [==============================] - 102s 1s/step - loss: 0.2893 - accuracy: 0.8849 - val_loss: 0.6286 - val_accuracy: 0.7110\n",
      "Epoch 17/20\n",
      "100/100 [==============================] - 107s 1s/step - loss: 0.2496 - accuracy: 0.9014 - val_loss: 0.5904 - val_accuracy: 0.7360\n",
      "Epoch 18/20\n",
      "100/100 [==============================] - 108s 1s/step - loss: 0.2342 - accuracy: 0.9127 - val_loss: 0.6242 - val_accuracy: 0.7320\n",
      "Epoch 19/20\n",
      "100/100 [==============================] - 99s 984ms/step - loss: 0.2150 - accuracy: 0.9199 - val_loss: 0.6080 - val_accuracy: 0.7360\n",
      "Epoch 20/20\n",
      "100/100 [==============================] - 104s 1s/step - loss: 0.1964 - accuracy: 0.9224 - val_loss: 0.6466 - val_accuracy: 0.7330\n"
     ]
    }
   ],
   "source": [
    "history = model.fit_generator(\n",
    "    train_generator,\n",
    "    steps_per_epoch = 100,\n",
    "    epochs = 20,\n",
    "    validation_data = validation_generator,\n",
    "    validation_steps = 50\n",
    ")"
   ]
  },
  {
   "cell_type": "code",
   "execution_count": 29,
   "metadata": {},
   "outputs": [
    {
     "data": {
      "image/png": "[encoded data removed]",
      "text/plain": [
       "<Figure size 576x360 with 1 Axes>"
      ]
     },
     "metadata": {
      "needs_background": "light"
     },
     "output_type": "display_data"
    }
   ],
   "source": [
    "pd.DataFrame(history.history).plot(figsize = (8, 5))\n",
    "plt.grid(True)\n",
    "plt.gca().set_ylim(0, 1)\n",
    "plt.show()"
   ]
  },
  {
   "cell_type": "code",
   "execution_count": 30,
   "metadata": {},
   "outputs": [
    {
     "name": "stdout",
     "output_type": "stream",
     "text": [
      "Found 1000 images belonging to 2 classes.\n",
      "50/50 [==============================] - 14s 284ms/step - loss: 0.6341 - accuracy: 0.7360\n"
     ]
    },
    {
     "data": {
      "text/plain": [
       "[0.6340948343276978, 0.7360000014305115]"
      ]
     },
     "execution_count": 30,
     "metadata": {},
     "output_type": "execute_result"
    }
   ],
   "source": [
    "test_generator = test_datagen.flow_from_directory(\n",
    "    test_dir,\n",
    "    target_size = (150, 150),\n",
    "    batch_size = 20,\n",
    "    class_mode = \"binary\"\n",
    ")\n",
    "model.evaluate(test_generator)"
   ]
  },
  {
   "cell_type": "code",
   "execution_count": 32,
   "metadata": {},
   "outputs": [],
   "source": [
    "model.save(\"model.h5\")"
   ]
  },
  {
   "cell_type": "code",
   "execution_count": 24,
   "metadata": {},
   "outputs": [],
   "source": [
    "del model\n",
    "tf.keras.backend.clear_session()"
   ]
  },
  {
   "cell_type": "markdown",
   "metadata": {},
   "source": [
    "## Data augmentation"
   ]
  },
  {
   "cell_type": "code",
   "execution_count": 30,
   "metadata": {},
   "outputs": [
    {
     "name": "stdout",
     "output_type": "stream",
     "text": [
      "Found 2000 images belonging to 2 classes.\n",
      "Found 1000 images belonging to 2 classes.\n",
      "Found 1000 images belonging to 2 classes.\n"
     ]
    }
   ],
   "source": [
    "#Creating generators\n",
    "train_datagen2 = ImageDataGenerator(\n",
    "    rescale = 1 / 255,\n",
    "    rotation_range = 40,\n",
    "    width_shift_range = 0.2,\n",
    "    height_shift_range = 0.2,\n",
    "    shear_range = 0.2,\n",
    "    zoom_range = 0.2,\n",
    "    horizontal_flip = True\n",
    ")\n",
    "valid_datagen2 = ImageDataGenerator(\n",
    "    rescale = 1 / 255\n",
    ")\n",
    "test_datagen2 = ImageDataGenerator(\n",
    "    rescale = 1 / 255\n",
    ")\n",
    "\n",
    "train_generator2 = train_datagen2.flow_from_directory(\n",
    "    train_dir,\n",
    "    target_size = (150, 150),\n",
    "    batch_size = 32,\n",
    "    class_mode = \"binary\"\n",
    ")\n",
    "valid_generator2 = valid_datagen2.flow_from_directory(\n",
    "    valid_dir,\n",
    "    target_size = (150, 150),\n",
    "    batch_size = 32,\n",
    "    class_mode = \"binary\"\n",
    ")\n",
    "test_generator2 = test_datagen2.flow_from_directory(\n",
    "    test_dir,\n",
    "    target_size = (150, 150),\n",
    "    batch_size = 32,\n",
    "    class_mode = \"binary\"\n",
    ")"
   ]
  },
  {
   "cell_type": "code",
   "execution_count": 21,
   "metadata": {},
   "outputs": [],
   "source": [
    "#Creating model\n",
    "model_aug = Sequential([\n",
    "    Conv2D(filters = 32, kernel_size = (3, 3), activation = \"relu\", input_shape = (150, 150, 3)),\n",
    "    MaxPooling2D(pool_size = (2, 2)),\n",
    "    \n",
    "    Conv2D(filters = 64, kernel_size = (3, 3), activation = \"relu\"),\n",
    "    MaxPooling2D(pool_size = (2, 2)),\n",
    "    \n",
    "    Conv2D(filters = 128, kernel_size = (3, 3), activation = \"relu\"),\n",
    "    MaxPooling2D(pool_size = (2, 2)),\n",
    "    \n",
    "    Conv2D(filters = 128, kernel_size = (3, 3), activation = \"relu\"),\n",
    "    MaxPooling2D(pool_size = (2, 2)),\n",
    "    \n",
    "    Flatten(),\n",
    "    Dropout(0.5),\n",
    "    Dense(512, activation = \"relu\"),\n",
    "    Dense(1, activation = \"sigmoid\")\n",
    "])"
   ]
  },
  {
   "cell_type": "code",
   "execution_count": 22,
   "metadata": {},
   "outputs": [
    {
     "name": "stdout",
     "output_type": "stream",
     "text": [
      "Model: \"sequential\"\n",
      "_________________________________________________________________\n",
      "Layer (type)                 Output Shape              Param #   \n",
      "=================================================================\n",
      "conv2d (Conv2D)              (None, 148, 148, 32)      896       \n",
      "_________________________________________________________________\n",
      "max_pooling2d (MaxPooling2D) (None, 74, 74, 32)        0         \n",
      "_________________________________________________________________\n",
      "conv2d_1 (Conv2D)            (None, 72, 72, 64)        18496     \n",
      "_________________________________________________________________\n",
      "max_pooling2d_1 (MaxPooling2 (None, 36, 36, 64)        0         \n",
      "_________________________________________________________________\n",
      "conv2d_2 (Conv2D)            (None, 34, 34, 128)       73856     \n",
      "_________________________________________________________________\n",
      "max_pooling2d_2 (MaxPooling2 (None, 17, 17, 128)       0         \n",
      "_________________________________________________________________\n",
      "conv2d_3 (Conv2D)            (None, 15, 15, 128)       147584    \n",
      "_________________________________________________________________\n",
      "max_pooling2d_3 (MaxPooling2 (None, 7, 7, 128)         0         \n",
      "_________________________________________________________________\n",
      "flatten (Flatten)            (None, 6272)              0         \n",
      "_________________________________________________________________\n",
      "dropout (Dropout)            (None, 6272)              0         \n",
      "_________________________________________________________________\n",
      "dense (Dense)                (None, 512)               3211776   \n",
      "_________________________________________________________________\n",
      "dense_1 (Dense)              (None, 1)                 513       \n",
      "=================================================================\n",
      "Total params: 3,453,121\n",
      "Trainable params: 3,453,121\n",
      "Non-trainable params: 0\n",
      "_________________________________________________________________\n"
     ]
    }
   ],
   "source": [
    "model_aug.summary()"
   ]
  },
  {
   "cell_type": "code",
   "execution_count": 23,
   "metadata": {},
   "outputs": [],
   "source": [
    "model_aug.compile(loss = \"binary_crossentropy\",\n",
    "                 optimizer = tf.keras.optimizers.SGD(lr = 1e-4),\n",
    "                 metrics = [\"acc\"])"
   ]
  },
  {
   "cell_type": "code",
   "execution_count": 24,
   "metadata": {},
   "outputs": [],
   "source": [
    "callback_list = [tf.keras.callbacks.EarlyStopping(patience = 10,\n",
    "                                                restore_best_weights = True),\n",
    "                 tf.keras.callbacks.ModelCheckpoint(\"best_aug_modelpy.h5\", \n",
    "                                                 save_best_only = True)\n",
    "                ]"
   ]
  },
  {
   "cell_type": "code",
   "execution_count": 25,
   "metadata": {},
   "outputs": [
    {
     "name": "stdout",
     "output_type": "stream",
     "text": [
      "Epoch 1/100\n",
      "125/125 [==============================] - 79s 625ms/step - loss: 0.6968 - acc: 0.5026 - val_loss: 0.6806 - val_acc: 0.5730\n",
      "Epoch 2/100\n",
      "125/125 [==============================] - 87s 697ms/step - loss: 0.6836 - acc: 0.5499 - val_loss: 0.6602 - val_acc: 0.6000\n",
      "Epoch 3/100\n",
      "125/125 [==============================] - 104s 829ms/step - loss: 0.6753 - acc: 0.5641 - val_loss: 0.6683 - val_acc: 0.5640\n",
      "Epoch 4/100\n",
      "125/125 [==============================] - 117s 937ms/step - loss: 0.6574 - acc: 0.5923 - val_loss: 0.6204 - val_acc: 0.6490\n",
      "Epoch 5/100\n",
      "125/125 [==============================] - 106s 850ms/step - loss: 0.6321 - acc: 0.6384 - val_loss: 0.6063 - val_acc: 0.6650\n",
      "Epoch 6/100\n",
      "125/125 [==============================] - 143s 1s/step - loss: 0.6223 - acc: 0.6467 - val_loss: 0.6414 - val_acc: 0.6190\n",
      "Epoch 7/100\n",
      "125/125 [==============================] - 122s 972ms/step - loss: 0.6066 - acc: 0.6673 - val_loss: 0.5801 - val_acc: 0.6790\n",
      "Epoch 8/100\n",
      "125/125 [==============================] - 106s 851ms/step - loss: 0.6061 - acc: 0.6683 - val_loss: 0.5867 - val_acc: 0.6740\n",
      "Epoch 9/100\n",
      "125/125 [==============================] - 103s 824ms/step - loss: 0.6081 - acc: 0.6662 - val_loss: 0.6266 - val_acc: 0.6450\n",
      "Epoch 10/100\n",
      "125/125 [==============================] - 108s 863ms/step - loss: 0.5955 - acc: 0.6728 - val_loss: 0.5764 - val_acc: 0.6830\n",
      "Epoch 11/100\n",
      "125/125 [==============================] - 108s 863ms/step - loss: 0.5959 - acc: 0.6775 - val_loss: 0.5527 - val_acc: 0.7090\n",
      "Epoch 12/100\n",
      "125/125 [==============================] - 109s 876ms/step - loss: 0.5641 - acc: 0.7060 - val_loss: 0.5527 - val_acc: 0.7030\n",
      "Epoch 13/100\n",
      "125/125 [==============================] - 123s 981ms/step - loss: 0.5629 - acc: 0.7068 - val_loss: 0.5712 - val_acc: 0.6930\n",
      "Epoch 14/100\n",
      "125/125 [==============================] - 126s 1s/step - loss: 0.5608 - acc: 0.7084 - val_loss: 0.5284 - val_acc: 0.7250\n",
      "Epoch 15/100\n",
      "125/125 [==============================] - 113s 902ms/step - loss: 0.5728 - acc: 0.7082 - val_loss: 0.7153 - val_acc: 0.6270\n",
      "Epoch 16/100\n",
      "125/125 [==============================] - 118s 941ms/step - loss: 0.5461 - acc: 0.7136 - val_loss: 0.5248 - val_acc: 0.7310\n",
      "Epoch 17/100\n",
      "125/125 [==============================] - 125s 999ms/step - loss: 0.5309 - acc: 0.7334 - val_loss: 0.5222 - val_acc: 0.7320\n",
      "Epoch 18/100\n",
      "125/125 [==============================] - 113s 901ms/step - loss: 0.5462 - acc: 0.7288 - val_loss: 0.5471 - val_acc: 0.7110\n",
      "Epoch 19/100\n",
      "125/125 [==============================] - 121s 968ms/step - loss: 0.5518 - acc: 0.7239 - val_loss: 0.5136 - val_acc: 0.7520\n",
      "Epoch 20/100\n",
      "125/125 [==============================] - 128s 1s/step - loss: 0.5535 - acc: 0.7176 - val_loss: 0.5213 - val_acc: 0.7420\n",
      "Epoch 21/100\n",
      "125/125 [==============================] - 151s 1s/step - loss: 0.5025 - acc: 0.7629 - val_loss: 0.5422 - val_acc: 0.7250\n",
      "Epoch 22/100\n",
      "125/125 [==============================] - 136s 1s/step - loss: 0.5174 - acc: 0.7322 - val_loss: 0.5138 - val_acc: 0.7440\n",
      "Epoch 23/100\n",
      "125/125 [==============================] - 140s 1s/step - loss: 0.5410 - acc: 0.7226 - val_loss: 0.5313 - val_acc: 0.7390\n",
      "Epoch 24/100\n",
      "125/125 [==============================] - 135s 1s/step - loss: 0.5336 - acc: 0.7284 - val_loss: 0.4959 - val_acc: 0.7680\n",
      "Epoch 25/100\n",
      "125/125 [==============================] - 126s 1s/step - loss: 0.5219 - acc: 0.7296 - val_loss: 0.5150 - val_acc: 0.7340\n",
      "Epoch 26/100\n",
      "125/125 [==============================] - 126s 1s/step - loss: 0.5122 - acc: 0.7515 - val_loss: 0.4891 - val_acc: 0.7590\n",
      "Epoch 27/100\n",
      "125/125 [==============================] - 128s 1s/step - loss: 0.4972 - acc: 0.7442 - val_loss: 0.4812 - val_acc: 0.7660\n",
      "Epoch 28/100\n",
      "125/125 [==============================] - 117s 933ms/step - loss: 0.5072 - acc: 0.7462 - val_loss: 0.5914 - val_acc: 0.7050\n",
      "Epoch 29/100\n",
      "125/125 [==============================] - 119s 949ms/step - loss: 0.5073 - acc: 0.7631 - val_loss: 0.4983 - val_acc: 0.7600\n",
      "Epoch 30/100\n",
      "125/125 [==============================] - 120s 958ms/step - loss: 0.5172 - acc: 0.7414 - val_loss: 0.4964 - val_acc: 0.7540\n",
      "Epoch 31/100\n",
      "125/125 [==============================] - 127s 1s/step - loss: 0.5176 - acc: 0.7447 - val_loss: 0.4986 - val_acc: 0.7590\n",
      "Epoch 32/100\n",
      "125/125 [==============================] - 125s 996ms/step - loss: 0.4981 - acc: 0.7491 - val_loss: 0.4806 - val_acc: 0.7660\n",
      "Epoch 33/100\n",
      "125/125 [==============================] - 131s 1s/step - loss: 0.4858 - acc: 0.7689 - val_loss: 0.5150 - val_acc: 0.7490\n",
      "Epoch 34/100\n",
      "125/125 [==============================] - 134s 1s/step - loss: 0.4943 - acc: 0.7586 - val_loss: 0.5025 - val_acc: 0.7500\n",
      "Epoch 35/100\n",
      "125/125 [==============================] - 153s 1s/step - loss: 0.4915 - acc: 0.7643 - val_loss: 0.5451 - val_acc: 0.7290\n",
      "Epoch 36/100\n",
      "125/125 [==============================] - 104s 828ms/step - loss: 0.5065 - acc: 0.7506 - val_loss: 0.4859 - val_acc: 0.7660\n",
      "Epoch 37/100\n",
      "125/125 [==============================] - 98s 787ms/step - loss: 0.4644 - acc: 0.7674 - val_loss: 0.4839 - val_acc: 0.7580\n",
      "Epoch 38/100\n",
      "125/125 [==============================] - 99s 793ms/step - loss: 0.4779 - acc: 0.7750 - val_loss: 0.4563 - val_acc: 0.7910\n",
      "Epoch 39/100\n",
      "125/125 [==============================] - 98s 783ms/step - loss: 0.4854 - acc: 0.7605 - val_loss: 0.5109 - val_acc: 0.7480\n",
      "Epoch 40/100\n",
      "125/125 [==============================] - 99s 789ms/step - loss: 0.4802 - acc: 0.7768 - val_loss: 0.4469 - val_acc: 0.7930\n",
      "Epoch 41/100\n",
      "125/125 [==============================] - 99s 788ms/step - loss: 0.4534 - acc: 0.7776 - val_loss: 0.4579 - val_acc: 0.7820\n",
      "Epoch 42/100\n",
      "125/125 [==============================] - 101s 806ms/step - loss: 0.4773 - acc: 0.7747 - val_loss: 0.4722 - val_acc: 0.7720\n",
      "Epoch 43/100\n",
      "125/125 [==============================] - 92s 734ms/step - loss: 0.4727 - acc: 0.7722 - val_loss: 0.5439 - val_acc: 0.7470\n",
      "Epoch 44/100\n",
      "125/125 [==============================] - 91s 725ms/step - loss: 0.4502 - acc: 0.7884 - val_loss: 0.5002 - val_acc: 0.7580\n",
      "Epoch 45/100\n",
      "125/125 [==============================] - 86s 685ms/step - loss: 0.4639 - acc: 0.7902 - val_loss: 0.4863 - val_acc: 0.7740\n",
      "Epoch 46/100\n",
      "125/125 [==============================] - 87s 697ms/step - loss: 0.4921 - acc: 0.7445 - val_loss: 0.4770 - val_acc: 0.7650\n",
      "Epoch 47/100\n",
      "125/125 [==============================] - 84s 675ms/step - loss: 0.4483 - acc: 0.7868 - val_loss: 0.4630 - val_acc: 0.7840\n",
      "Epoch 48/100\n",
      "125/125 [==============================] - 86s 684ms/step - loss: 0.4829 - acc: 0.7733 - val_loss: 0.4721 - val_acc: 0.7840\n",
      "Epoch 49/100\n",
      "125/125 [==============================] - 85s 682ms/step - loss: 0.4562 - acc: 0.7960 - val_loss: 0.4702 - val_acc: 0.7630\n",
      "Epoch 50/100\n",
      "125/125 [==============================] - 85s 681ms/step - loss: 0.4591 - acc: 0.7772 - val_loss: 0.4755 - val_acc: 0.7810\n"
     ]
    }
   ],
   "source": [
    "history = model_aug.fit(train_generator2, epochs = 100,\n",
    "                       validation_data = valid_generator2,\n",
    "                       callbacks = callback_list)"
   ]
  },
  {
   "cell_type": "code",
   "execution_count": 26,
   "metadata": {},
   "outputs": [
    {
     "data": {
      "text/plain": [
       "<function matplotlib.pyplot.show(close=None, block=None)>"
      ]
     },
     "execution_count": 26,
     "metadata": {},
     "output_type": "execute_result"
    },
    {
     "data": {
      "image/png": "[encoded data removed]",
      "text/plain": [
       "<Figure size 576x360 with 1 Axes>"
      ]
     },
     "metadata": {
      "needs_background": "light"
     },
     "output_type": "display_data"
    }
   ],
   "source": [
    "pd.DataFrame(history.history).plot(figsize = (8, 5))\n",
    "plt.grid(True)\n",
    "plt.gca().set_ylim(0, 1)\n",
    "plt.show"
   ]
  },
  {
   "cell_type": "code",
   "execution_count": 27,
   "metadata": {},
   "outputs": [],
   "source": [
    "del model_aug\n",
    "tf.keras.backend.clear_session()"
   ]
  },
  {
   "cell_type": "code",
   "execution_count": 28,
   "metadata": {},
   "outputs": [],
   "source": [
    "best_model_aug = tf.keras.models.load_model(\"best_aug_modelpy.h5\")"
   ]
  },
  {
   "cell_type": "code",
   "execution_count": 29,
   "metadata": {},
   "outputs": [
    {
     "name": "stdout",
     "output_type": "stream",
     "text": [
      "63/63 [==============================] - 8s 126ms/step - loss: 0.4829 - acc: 0.7690\n"
     ]
    }
   ],
   "source": [
    "score_aug = best_model_aug.evaluate(test_generator2)"
   ]
  },
  {
   "cell_type": "code",
   "execution_count": null,
   "metadata": {},
   "outputs": [],
   "source": []
  }
 ],
 "metadata": {
  "kernelspec": {
   "display_name": "Python 3",
   "language": "python",
   "name": "python3"
  },
  "language_info": {
   "codemirror_mode": {
    "name": "ipython",
    "version": 3
   },
   "file_extension": ".py",
   "mimetype": "text/x-python",
   "name": "python",
   "nbconvert_exporter": "python",
   "pygments_lexer": "ipython3",
   "version": "3.8.5"
  }
 },
 "nbformat": 4,
 "nbformat_minor": 4
}
