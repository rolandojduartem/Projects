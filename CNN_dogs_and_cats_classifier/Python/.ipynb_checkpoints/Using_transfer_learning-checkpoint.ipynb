{
 "cells": [
  {
   "cell_type": "markdown",
   "metadata": {
    "id": "_jzd9ZpyWsDC"
   },
   "source": [
    "# Classifer dogs and cats usin CNN transfering learning\n",
    "It is the same problem as Classifier_dogs_and_cats.ipynb, but, using transfering learning to achieve more accuracy.\n",
    "## Importing libraries and generating dataset"
   ]
  },
  {
   "cell_type": "code",
   "execution_count": 8,
   "metadata": {
    "id": "NNPQ0zVyWsDF"
   },
   "outputs": [],
   "source": [
    "import os\n",
    "import numpy as np\n",
    "import pandas as pd\n",
    "%matplotlib inline\n",
    "import matplotlib as mpl\n",
    "import matplotlib.pyplot as plt\n",
    "import tensorflow as tf\n",
    "import tensorflow.keras as keras\n",
    "from tensorflow.keras.preprocessing.image import ImageDataGenerator"
   ]
  },
  {
   "cell_type": "code",
   "execution_count": 9,
   "metadata": {
    "id": "au9oUVMFWsDI"
   },
   "outputs": [],
   "source": [
    "train_dir = r\"./train\"\n",
    "valid_dir = r\"./validation\"\n",
    "test_dir = r\"./test\""
   ]
  },
  {
   "cell_type": "code",
   "execution_count": 10,
   "metadata": {
    "id": "9hVN9ZLEWsDJ"
   },
   "outputs": [],
   "source": [
    "train_datagen = ImageDataGenerator( #Data augmentation for training dataset to avoid overfitting\n",
    "    rescale = 1 / 255,\n",
    "    rotation_range = 40,\n",
    "    width_shift_range = 0.2,\n",
    "    height_shift_range = 0.2,\n",
    "    shear_range = 0.2,\n",
    "    zoom_range = 0.2,\n",
    "    horizontal_flip = True\n",
    ")\n",
    "\n",
    "valid_datagen = ImageDataGenerator( #Just rescalling validation dataset\n",
    "    rescale = 1 / 255\n",
    ")\n",
    "\n",
    "test_datagen = ImageDataGenerator( #Just rescalling testing dataset\n",
    "    rescale = 1 / 255\n",
    ")"
   ]
  },
  {
   "cell_type": "code",
   "execution_count": 11,
   "metadata": {
    "colab": {
     "base_uri": "https://localhost:8080/"
    },
    "id": "KtyMlpU5WsDK",
    "outputId": "3b6844b3-7fb0-4db1-b0e8-3b3000cbd6fa"
   },
   "outputs": [
    {
     "name": "stdout",
     "output_type": "stream",
     "text": [
      "Found 2000 images belonging to 2 classes.\n",
      "Found 1000 images belonging to 2 classes.\n",
      "Found 1000 images belonging to 2 classes.\n"
     ]
    }
   ],
   "source": [
    "train_generator = train_datagen.flow_from_directory( #Loading training dataset\n",
    "    train_dir,\n",
    "    target_size = (150, 150),\n",
    "    batch_size = 32,\n",
    "    class_mode = \"binary\"\n",
    ")\n",
    "\n",
    "valid_generator = valid_datagen.flow_from_directory( #Loading validation dataset\n",
    "    valid_dir,\n",
    "    target_size = (150, 150),\n",
    "    batch_size = 32,\n",
    "    class_mode = \"binary\"\n",
    ")\n",
    "\n",
    "test_generator = test_datagen.flow_from_directory( #Loading testing dataset\n",
    "    test_dir,\n",
    "    target_size = (150, 150),\n",
    "    batch_size = 32,\n",
    "    class_mode = \"binary\"\n",
    ")"
   ]
  },
  {
   "cell_type": "markdown",
   "metadata": {
    "id": "duC-uSGGWsDL"
   },
   "source": [
    "## Transfer learning sections"
   ]
  },
  {
   "cell_type": "code",
   "execution_count": 12,
   "metadata": {
    "id": "VCxfaPLKWsDN"
   },
   "outputs": [],
   "source": [
    "from tensorflow.keras.applications import VGG16"
   ]
  },
  {
   "cell_type": "markdown",
   "metadata": {
    "id": "3MICZHeyWsDO"
   },
   "source": [
    "### VGG16"
   ]
  },
  {
   "cell_type": "code",
   "execution_count": 13,
   "metadata": {
    "colab": {
     "base_uri": "https://localhost:8080/"
    },
    "id": "uW5A82nRWsDP",
    "outputId": "2bd8f6bf-5fc7-471f-d51f-94ac09f3ca25"
   },
   "outputs": [
    {
     "name": "stdout",
     "output_type": "stream",
     "text": [
      "Downloading data from https://storage.googleapis.com/tensorflow/keras-applications/vgg16/vgg16_weights_tf_dim_ordering_tf_kernels_notop.h5\n",
      "58892288/58889256 [==============================] - 0s 0us/step\n",
      "Model: \"vgg16\"\n",
      "_________________________________________________________________\n",
      "Layer (type)                 Output Shape              Param #   \n",
      "=================================================================\n",
      "input_1 (InputLayer)         [(None, 150, 150, 3)]     0         \n",
      "_________________________________________________________________\n",
      "block1_conv1 (Conv2D)        (None, 150, 150, 64)      1792      \n",
      "_________________________________________________________________\n",
      "block1_conv2 (Conv2D)        (None, 150, 150, 64)      36928     \n",
      "_________________________________________________________________\n",
      "block1_pool (MaxPooling2D)   (None, 75, 75, 64)        0         \n",
      "_________________________________________________________________\n",
      "block2_conv1 (Conv2D)        (None, 75, 75, 128)       73856     \n",
      "_________________________________________________________________\n",
      "block2_conv2 (Conv2D)        (None, 75, 75, 128)       147584    \n",
      "_________________________________________________________________\n",
      "block2_pool (MaxPooling2D)   (None, 37, 37, 128)       0         \n",
      "_________________________________________________________________\n",
      "block3_conv1 (Conv2D)        (None, 37, 37, 256)       295168    \n",
      "_________________________________________________________________\n",
      "block3_conv2 (Conv2D)        (None, 37, 37, 256)       590080    \n",
      "_________________________________________________________________\n",
      "block3_conv3 (Conv2D)        (None, 37, 37, 256)       590080    \n",
      "_________________________________________________________________\n",
      "block3_pool (MaxPooling2D)   (None, 18, 18, 256)       0         \n",
      "_________________________________________________________________\n",
      "block4_conv1 (Conv2D)        (None, 18, 18, 512)       1180160   \n",
      "_________________________________________________________________\n",
      "block4_conv2 (Conv2D)        (None, 18, 18, 512)       2359808   \n",
      "_________________________________________________________________\n",
      "block4_conv3 (Conv2D)        (None, 18, 18, 512)       2359808   \n",
      "_________________________________________________________________\n",
      "block4_pool (MaxPooling2D)   (None, 9, 9, 512)         0         \n",
      "_________________________________________________________________\n",
      "block5_conv1 (Conv2D)        (None, 9, 9, 512)         2359808   \n",
      "_________________________________________________________________\n",
      "block5_conv2 (Conv2D)        (None, 9, 9, 512)         2359808   \n",
      "_________________________________________________________________\n",
      "block5_conv3 (Conv2D)        (None, 9, 9, 512)         2359808   \n",
      "_________________________________________________________________\n",
      "block5_pool (MaxPooling2D)   (None, 4, 4, 512)         0         \n",
      "=================================================================\n",
      "Total params: 14,714,688\n",
      "Trainable params: 14,714,688\n",
      "Non-trainable params: 0\n",
      "_________________________________________________________________\n"
     ]
    }
   ],
   "source": [
    "conv_base = VGG16(weights = \"imagenet\", #Using convutional base from VGG16\n",
    "                 include_top = False,\n",
    "                 input_shape = (150, 150, 3))\n",
    "\n",
    "conv_base.summary()"
   ]
  },
  {
   "cell_type": "code",
   "execution_count": 14,
   "metadata": {
    "colab": {
     "base_uri": "https://localhost:8080/"
    },
    "id": "AeJHW1vpWsDP",
    "outputId": "c3c7659d-7626-4427-f076-9b2136ed8802"
   },
   "outputs": [
    {
     "name": "stdout",
     "output_type": "stream",
     "text": [
      "Model: \"sequential\"\n",
      "_________________________________________________________________\n",
      "Layer (type)                 Output Shape              Param #   \n",
      "=================================================================\n",
      "vgg16 (Functional)           (None, 4, 4, 512)         14714688  \n",
      "_________________________________________________________________\n",
      "flatten (Flatten)            (None, 8192)              0         \n",
      "_________________________________________________________________\n",
      "dense (Dense)                (None, 256)               2097408   \n",
      "_________________________________________________________________\n",
      "dense_1 (Dense)              (None, 1)                 257       \n",
      "=================================================================\n",
      "Total params: 16,812,353\n",
      "Trainable params: 16,812,353\n",
      "Non-trainable params: 0\n",
      "_________________________________________________________________\n"
     ]
    }
   ],
   "source": [
    "from tensorflow.keras.models import Sequential\n",
    "from tensorflow.keras.layers import Flatten, Dense\n",
    "\n",
    "model_vgg = Sequential([\n",
    "    conv_base,\n",
    "    Flatten(),\n",
    "    Dense(256, activation = \"relu\"),\n",
    "    Dense(1, activation = \"sigmoid\")\n",
    "])\n",
    "\n",
    "model_vgg.summary()"
   ]
  },
  {
   "cell_type": "code",
   "execution_count": 15,
   "metadata": {
    "colab": {
     "base_uri": "https://localhost:8080/",
     "height": 466
    },
    "id": "HbDksc63WsDQ",
    "outputId": "f9d1b4fb-0d0f-4e05-9705-acc7cdb66615"
   },
   "outputs": [
    {
     "data": {
      "image/png": "[encoded data removed]",
      "text/plain": [
       "<IPython.core.display.Image object>"
      ]
     },
     "execution_count": 15,
     "metadata": {
      "tags": []
     },
     "output_type": "execute_result"
    }
   ],
   "source": [
    "keras.utils.plot_model(model_vgg)"
   ]
  },
  {
   "cell_type": "code",
   "execution_count": 16,
   "metadata": {
    "colab": {
     "base_uri": "https://localhost:8080/"
    },
    "id": "_jxSFBbtWsDS",
    "outputId": "113fb821-a6c8-4f43-a774-5fab813ea190"
   },
   "outputs": [
    {
     "name": "stdout",
     "output_type": "stream",
     "text": [
      "Epoch 1/1000\n",
      "63/63 [==============================] - 64s 410ms/step - loss: 0.5678 - acc: 0.6926 - val_loss: 0.1870 - val_acc: 0.9270\n",
      "Epoch 2/1000\n",
      "63/63 [==============================] - 21s 340ms/step - loss: 0.2559 - acc: 0.8962 - val_loss: 0.1499 - val_acc: 0.9400\n",
      "Epoch 3/1000\n",
      "63/63 [==============================] - 22s 341ms/step - loss: 0.1991 - acc: 0.9178 - val_loss: 0.1197 - val_acc: 0.9490\n",
      "Epoch 4/1000\n",
      "63/63 [==============================] - 22s 342ms/step - loss: 0.1649 - acc: 0.9367 - val_loss: 0.1724 - val_acc: 0.9380\n",
      "Epoch 5/1000\n",
      "63/63 [==============================] - 22s 341ms/step - loss: 0.1361 - acc: 0.9515 - val_loss: 0.1481 - val_acc: 0.9560\n",
      "Epoch 6/1000\n",
      "63/63 [==============================] - 22s 343ms/step - loss: 0.1412 - acc: 0.9402 - val_loss: 0.0862 - val_acc: 0.9620\n",
      "Epoch 7/1000\n",
      "63/63 [==============================] - 22s 345ms/step - loss: 0.1171 - acc: 0.9504 - val_loss: 0.1065 - val_acc: 0.9550\n",
      "Epoch 8/1000\n",
      "63/63 [==============================] - 21s 339ms/step - loss: 0.0889 - acc: 0.9665 - val_loss: 0.0853 - val_acc: 0.9660\n",
      "Epoch 9/1000\n",
      "63/63 [==============================] - 22s 341ms/step - loss: 0.0833 - acc: 0.9662 - val_loss: 0.0808 - val_acc: 0.9650\n",
      "Epoch 10/1000\n",
      "63/63 [==============================] - 22s 345ms/step - loss: 0.0762 - acc: 0.9714 - val_loss: 0.0742 - val_acc: 0.9690\n",
      "Epoch 11/1000\n",
      "63/63 [==============================] - 22s 341ms/step - loss: 0.0726 - acc: 0.9720 - val_loss: 0.0844 - val_acc: 0.9710\n",
      "Epoch 12/1000\n",
      "63/63 [==============================] - 22s 343ms/step - loss: 0.0675 - acc: 0.9733 - val_loss: 0.1035 - val_acc: 0.9620\n",
      "Epoch 13/1000\n",
      "63/63 [==============================] - 22s 344ms/step - loss: 0.0614 - acc: 0.9782 - val_loss: 0.0816 - val_acc: 0.9700\n",
      "Epoch 14/1000\n",
      "63/63 [==============================] - 22s 342ms/step - loss: 0.0466 - acc: 0.9826 - val_loss: 0.1190 - val_acc: 0.9510\n",
      "Epoch 15/1000\n",
      "63/63 [==============================] - 22s 343ms/step - loss: 0.0739 - acc: 0.9714 - val_loss: 0.0784 - val_acc: 0.9670\n",
      "Epoch 16/1000\n",
      "63/63 [==============================] - 22s 345ms/step - loss: 0.0500 - acc: 0.9797 - val_loss: 0.1211 - val_acc: 0.9530\n",
      "Epoch 17/1000\n",
      "63/63 [==============================] - 22s 341ms/step - loss: 0.0476 - acc: 0.9801 - val_loss: 0.1231 - val_acc: 0.9570\n",
      "Epoch 18/1000\n",
      "63/63 [==============================] - 22s 344ms/step - loss: 0.0335 - acc: 0.9853 - val_loss: 0.0951 - val_acc: 0.9690\n",
      "Epoch 19/1000\n",
      "63/63 [==============================] - 22s 343ms/step - loss: 0.0351 - acc: 0.9866 - val_loss: 0.0887 - val_acc: 0.9720\n",
      "Epoch 20/1000\n",
      "63/63 [==============================] - 22s 340ms/step - loss: 0.0354 - acc: 0.9864 - val_loss: 0.1867 - val_acc: 0.9390\n",
      "Epoch 21/1000\n",
      "63/63 [==============================] - 22s 343ms/step - loss: 0.0339 - acc: 0.9879 - val_loss: 0.0866 - val_acc: 0.9680\n",
      "Epoch 22/1000\n",
      "63/63 [==============================] - 22s 342ms/step - loss: 0.0417 - acc: 0.9889 - val_loss: 0.1497 - val_acc: 0.9610\n",
      "Epoch 23/1000\n",
      "63/63 [==============================] - 22s 343ms/step - loss: 0.0660 - acc: 0.9739 - val_loss: 0.0844 - val_acc: 0.9690\n",
      "Epoch 24/1000\n",
      "63/63 [==============================] - 22s 344ms/step - loss: 0.0293 - acc: 0.9863 - val_loss: 0.1638 - val_acc: 0.9530\n",
      "Epoch 25/1000\n",
      "63/63 [==============================] - 22s 342ms/step - loss: 0.0488 - acc: 0.9799 - val_loss: 0.1026 - val_acc: 0.9660\n",
      "Epoch 26/1000\n",
      "63/63 [==============================] - 22s 342ms/step - loss: 0.0208 - acc: 0.9940 - val_loss: 0.1100 - val_acc: 0.9660\n",
      "Epoch 27/1000\n",
      "63/63 [==============================] - 22s 348ms/step - loss: 0.0206 - acc: 0.9935 - val_loss: 0.1050 - val_acc: 0.9660\n",
      "Epoch 28/1000\n",
      "63/63 [==============================] - 22s 342ms/step - loss: 0.0226 - acc: 0.9915 - val_loss: 0.1442 - val_acc: 0.9640\n",
      "Epoch 29/1000\n",
      "63/63 [==============================] - 22s 344ms/step - loss: 0.0215 - acc: 0.9908 - val_loss: 0.1001 - val_acc: 0.9710\n",
      "Epoch 30/1000\n",
      "63/63 [==============================] - 22s 342ms/step - loss: 0.0202 - acc: 0.9943 - val_loss: 0.1165 - val_acc: 0.9640\n",
      "Epoch 31/1000\n",
      "63/63 [==============================] - 22s 343ms/step - loss: 0.0298 - acc: 0.9903 - val_loss: 0.1861 - val_acc: 0.9470\n",
      "Epoch 32/1000\n",
      "63/63 [==============================] - 22s 344ms/step - loss: 0.0258 - acc: 0.9895 - val_loss: 0.1590 - val_acc: 0.9590\n",
      "Epoch 33/1000\n",
      "63/63 [==============================] - 22s 345ms/step - loss: 0.0196 - acc: 0.9914 - val_loss: 0.1756 - val_acc: 0.9590\n",
      "Epoch 34/1000\n",
      "63/63 [==============================] - 22s 344ms/step - loss: 0.0726 - acc: 0.9780 - val_loss: 0.0870 - val_acc: 0.9710\n",
      "Epoch 35/1000\n",
      "63/63 [==============================] - 22s 345ms/step - loss: 0.0193 - acc: 0.9936 - val_loss: 0.0892 - val_acc: 0.9720\n"
     ]
    }
   ],
   "source": [
    "model_vgg.compile(loss = \"binary_crossentropy\",\n",
    "                 optimizer = keras.optimizers.Adam(lr = 2e-5),\n",
    "                  metrics = [\"acc\"]\n",
    "                 )\n",
    "callback_list = [tf.keras.callbacks.EarlyStopping(patience = 25,\n",
    "                                                restore_best_weights = True),\n",
    "                 tf.keras.callbacks.ModelCheckpoint(\"best_vgg.h5\", \n",
    "                                                 save_best_only = True)\n",
    "                ]\n",
    "history_vgg = model_vgg.fit(train_generator, epochs = 1000, validation_data = valid_generator,\n",
    "             callbacks = callback_list)"
   ]
  },
  {
   "cell_type": "code",
   "execution_count": 17,
   "metadata": {
    "colab": {
     "base_uri": "https://localhost:8080/",
     "height": 342
    },
    "id": "koqim9MRWsDT",
    "outputId": "75288133-ce60-4ce4-df3d-bc55930d1f2c"
   },
   "outputs": [
    {
     "data": {
      "text/plain": [
       "<function matplotlib.pyplot.show>"
      ]
     },
     "execution_count": 17,
     "metadata": {
      "tags": []
     },
     "output_type": "execute_result"
    },
    {
     "data": {
      "image/png": "[encoded data removed]",
      "text/plain": [
       "<Figure size 576x360 with 1 Axes>"
      ]
     },
     "metadata": {
      "needs_background": "light",
      "tags": []
     },
     "output_type": "display_data"
    }
   ],
   "source": [
    "pd.DataFrame(history_vgg.history).plot(figsize = (8, 5))\n",
    "plt.grid(True)\n",
    "plt.gca().set_ylim(0, 1)\n",
    "plt.show"
   ]
  },
  {
   "cell_type": "code",
   "execution_count": 19,
   "metadata": {
    "colab": {
     "base_uri": "https://localhost:8080/"
    },
    "id": "6arccsPnWsDT",
    "outputId": "3106bfa2-265b-4d38-d02b-1aef2a200749"
   },
   "outputs": [
    {
     "name": "stdout",
     "output_type": "stream",
     "text": [
      "32/32 [==============================] - 3s 98ms/step - loss: 0.0935 - acc: 0.9710\n"
     ]
    }
   ],
   "source": [
    "best_vgg = tf.keras.models.load_model(\"best_vgg.h5\")\n",
    "score_vgg = best_vgg.evaluate(test_generator)"
   ]
  },
  {
   "cell_type": "code",
   "execution_count": null,
   "metadata": {
    "id": "NUmDUuF6WsDU"
   },
   "outputs": [],
   "source": [
    "del model_vgg\n",
    "del best_vgg\n",
    "del score_vgg\n",
    "keras.backend.clear_session()"
   ]
  },
  {
   "cell_type": "markdown",
   "metadata": {
    "id": "62VuesXjWsDU"
   },
   "source": [
    "I used Google colab, because my computer have low power, but, using VGG16, I achieved 97.10% accuracy from test dataset."
   ]
  }
 ],
 "metadata": {
  "accelerator": "GPU",
  "colab": {
   "collapsed_sections": [],
   "name": "Using_transfer_learning.ipynb",
   "provenance": [],
   "toc_visible": true
  },
  "kernelspec": {
   "display_name": "Python 3",
   "language": "python",
   "name": "python3"
  },
  "language_info": {
   "codemirror_mode": {
    "name": "ipython",
    "version": 3
   },
   "file_extension": ".py",
   "mimetype": "text/x-python",
   "name": "python",
   "nbconvert_exporter": "python",
   "pygments_lexer": "ipython3",
   "version": "3.8.5"
  }
 },
 "nbformat": 4,
 "nbformat_minor": 1
}
