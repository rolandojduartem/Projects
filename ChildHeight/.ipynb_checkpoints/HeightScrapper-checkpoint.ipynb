{
 "cells": [
  {
   "cell_type": "markdown",
   "id": "7d4225ef",
   "metadata": {},
   "source": [
    "## Resources\n",
    "- https://www.randomservices.org/random/data/Galton.html"
   ]
  },
  {
   "cell_type": "code",
   "execution_count": 1,
   "id": "b2798c1d",
   "metadata": {},
   "outputs": [],
   "source": [
    "import pandas as pd\n",
    "from selenium import webdriver\n",
    "from selenium.webdriver.common.keys import Keys"
   ]
  },
  {
   "cell_type": "code",
   "execution_count": 2,
   "id": "6416101b",
   "metadata": {},
   "outputs": [],
   "source": [
    "driver = webdriver.Chrome(\"./chromedriver.exe\")\n",
    "url = \"https://www.randomservices.org/random/data/Galton.html\"\n",
    "driver.get(url)\n",
    "titles = driver.find_elements_by_class_name(\"dataTables_scrollHead\")\n",
    "dataRaw = driver.find_elements_by_class_name(\"dataTables_scrollBody\")\n",
    "for title in titles:\n",
    "    columns = title.text.split()\n",
    "for row in dataRaw:\n",
    "    dataStrings = row.text.split(\"\\n\")\n",
    "arrayData = []\n",
    "for row in dataStrings:\n",
    "    arrayData.append(row.split())\n",
    "df = pd.DataFrame(arrayData, columns = columns)\n",
    "df.to_csv(\"GaltonHeights.csv\")"
   ]
  }
 ],
 "metadata": {
  "kernelspec": {
   "display_name": "Python 3",
   "language": "python",
   "name": "python3"
  },
  "language_info": {
   "codemirror_mode": {
    "name": "ipython",
    "version": 3
   },
   "file_extension": ".py",
   "mimetype": "text/x-python",
   "name": "python",
   "nbconvert_exporter": "python",
   "pygments_lexer": "ipython3",
   "version": "3.8.8"
  }
 },
 "nbformat": 4,
 "nbformat_minor": 5
}
