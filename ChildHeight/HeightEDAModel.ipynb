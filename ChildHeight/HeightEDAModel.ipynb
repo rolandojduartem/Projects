{
 "cells": [
  {
   "cell_type": "code",
   "execution_count": 1,
   "id": "c814129d",
   "metadata": {},
   "outputs": [],
   "source": [
    "import numpy as np\n",
    "import pandas as pd\n",
    "import seaborn as sns\n",
    "import matplotlib.pyplot as plt"
   ]
  },
  {
   "cell_type": "code",
   "execution_count": 11,
   "id": "7aaae0ef",
   "metadata": {},
   "outputs": [
    {
     "name": "stdout",
     "output_type": "stream",
     "text": [
      "<class 'pandas.core.frame.DataFrame'>\n",
      "Int64Index: 898 entries, 0 to 897\n",
      "Data columns (total 6 columns):\n",
      " #   Column  Non-Null Count  Dtype  \n",
      "---  ------  --------------  -----  \n",
      " 0   Family  898 non-null    int64  \n",
      " 1   Father  898 non-null    float64\n",
      " 2   Mother  898 non-null    float64\n",
      " 3   Gender  898 non-null    object \n",
      " 4   Height  898 non-null    float64\n",
      " 5   Kids    898 non-null    int64  \n",
      "dtypes: float64(3), int64(2), object(1)\n",
      "memory usage: 49.1+ KB\n"
     ]
    }
   ],
   "source": [
    "df = pd.read_csv(\"GaltonHeights.csv\", index_col=0)\n",
    "df.info()"
   ]
  },
  {
   "cell_type": "code",
   "execution_count": 22,
   "id": "d692f106",
   "metadata": {},
   "outputs": [
    {
     "data": {
      "text/plain": [
       "(898, 6)"
      ]
     },
     "execution_count": 22,
     "metadata": {},
     "output_type": "execute_result"
    }
   ],
   "source": [
    "df.shape"
   ]
  },
  {
   "cell_type": "code",
   "execution_count": 16,
   "id": "e5d91ece",
   "metadata": {},
   "outputs": [
    {
     "name": "stdout",
     "output_type": "stream",
     "text": [
      "<class 'pandas.core.frame.DataFrame'>\n",
      "Int64Index: 197 entries, 0 to 890\n",
      "Data columns (total 6 columns):\n",
      " #   Column  Non-Null Count  Dtype  \n",
      "---  ------  --------------  -----  \n",
      " 0   Family  197 non-null    int64  \n",
      " 1   Father  197 non-null    float64\n",
      " 2   Mother  197 non-null    float64\n",
      " 3   Gender  197 non-null    object \n",
      " 4   Height  197 non-null    float64\n",
      " 5   Kids    197 non-null    int64  \n",
      "dtypes: float64(3), int64(2), object(1)\n",
      "memory usage: 10.8+ KB\n"
     ]
    }
   ],
   "source": [
    "dfUnique = df.drop_duplicates(subset = [\"Family\"])\n",
    "dfUnique.info()"
   ]
  },
  {
   "cell_type": "code",
   "execution_count": 20,
   "id": "2bf22301",
   "metadata": {},
   "outputs": [
    {
     "data": {
      "text/plain": [
       "(197, 6)"
      ]
     },
     "execution_count": 20,
     "metadata": {},
     "output_type": "execute_result"
    }
   ],
   "source": [
    "dfUnique.shape"
   ]
  },
  {
   "cell_type": "markdown",
   "id": "5f60fa49",
   "metadata": {},
   "source": [
    "In this data set, there are 898 adult children from 197 families"
   ]
  },
  {
   "cell_type": "code",
   "execution_count": 29,
   "id": "c12ec974",
   "metadata": {},
   "outputs": [
    {
     "data": {
      "image/png": "[encoded data removed]",
      "text/plain": [
       "<Figure size 432x288 with 1 Axes>"
      ]
     },
     "metadata": {
      "needs_background": "light"
     },
     "output_type": "display_data"
    },
    {
     "name": "stdout",
     "output_type": "stream",
     "text": [
      "1    32\n",
      "4    29\n",
      "5    28\n",
      "3    22\n",
      "2    20\n",
      "Name: Kids, dtype: int64\n"
     ]
    }
   ],
   "source": [
    "dfUnique[\"Kids\"].hist(bins = 15)\n",
    "plt.show()\n",
    "print(dfUnique[\"Kids\"].value_counts()[:5])"
   ]
  },
  {
   "cell_type": "markdown",
   "id": "362b7032",
   "metadata": {},
   "source": [
    "It is pretty common the families with only one child, but also, it is nearly common families with four and five children"
   ]
  },
  {
   "cell_type": "markdown",
   "id": "81614a6e",
   "metadata": {},
   "source": [
    "Now, for international conventions, it is necessary to convert the height from inches to centimeters"
   ]
  },
  {
   "cell_type": "code",
   "execution_count": 36,
   "id": "f88ff8b2",
   "metadata": {},
   "outputs": [
    {
     "data": {
      "text/html": [
       "<div>\n",
       "<style scoped>\n",
       "    .dataframe tbody tr th:only-of-type {\n",
       "        vertical-align: middle;\n",
       "    }\n",
       "\n",
       "    .dataframe tbody tr th {\n",
       "        vertical-align: top;\n",
       "    }\n",
       "\n",
       "    .dataframe thead th {\n",
       "        text-align: right;\n",
       "    }\n",
       "</style>\n",
       "<table border=\"1\" class=\"dataframe\">\n",
       "  <thead>\n",
       "    <tr style=\"text-align: right;\">\n",
       "      <th></th>\n",
       "      <th>Father</th>\n",
       "      <th>Mother</th>\n",
       "      <th>Height</th>\n",
       "    </tr>\n",
       "  </thead>\n",
       "  <tbody>\n",
       "    <tr>\n",
       "      <th>count</th>\n",
       "      <td>898.000000</td>\n",
       "      <td>898.000000</td>\n",
       "      <td>898.000000</td>\n",
       "    </tr>\n",
       "    <tr>\n",
       "      <th>mean</th>\n",
       "      <td>169.723831</td>\n",
       "      <td>156.982183</td>\n",
       "      <td>163.583519</td>\n",
       "    </tr>\n",
       "    <tr>\n",
       "      <th>std</th>\n",
       "      <td>6.044199</td>\n",
       "      <td>5.658797</td>\n",
       "      <td>8.826220</td>\n",
       "    </tr>\n",
       "    <tr>\n",
       "      <th>min</th>\n",
       "      <td>152.000000</td>\n",
       "      <td>142.000000</td>\n",
       "      <td>137.000000</td>\n",
       "    </tr>\n",
       "    <tr>\n",
       "      <th>25%</th>\n",
       "      <td>167.000000</td>\n",
       "      <td>154.000000</td>\n",
       "      <td>157.000000</td>\n",
       "    </tr>\n",
       "    <tr>\n",
       "      <th>50%</th>\n",
       "      <td>169.000000</td>\n",
       "      <td>157.000000</td>\n",
       "      <td>163.000000</td>\n",
       "    </tr>\n",
       "    <tr>\n",
       "      <th>75%</th>\n",
       "      <td>174.000000</td>\n",
       "      <td>160.000000</td>\n",
       "      <td>171.000000</td>\n",
       "    </tr>\n",
       "    <tr>\n",
       "      <th>max</th>\n",
       "      <td>192.000000</td>\n",
       "      <td>173.000000</td>\n",
       "      <td>194.000000</td>\n",
       "    </tr>\n",
       "  </tbody>\n",
       "</table>\n",
       "</div>"
      ],
      "text/plain": [
       "           Father      Mother      Height\n",
       "count  898.000000  898.000000  898.000000\n",
       "mean   169.723831  156.982183  163.583519\n",
       "std      6.044199    5.658797    8.826220\n",
       "min    152.000000  142.000000  137.000000\n",
       "25%    167.000000  154.000000  157.000000\n",
       "50%    169.000000  157.000000  163.000000\n",
       "75%    174.000000  160.000000  171.000000\n",
       "max    192.000000  173.000000  194.000000"
      ]
     },
     "execution_count": 36,
     "metadata": {},
     "output_type": "execute_result"
    }
   ],
   "source": [
    "dfcm = np.around(df[[\"Father\", \"Mother\", \"Height\"]] * 2.45, 0)\n",
    "dfcm[\"Gender\"] = df[\"Gender\"]\n",
    "dfcm.describe()"
   ]
  },
  {
   "cell_type": "code",
   "execution_count": 43,
   "id": "86e1bdd8",
   "metadata": {},
   "outputs": [
    {
     "name": "stdout",
     "output_type": "stream",
     "text": [
      "M    465\n",
      "F    433\n",
      "Name: Gender, dtype: int64\n"
     ]
    },
    {
     "data": {
      "image/png": "[encoded data removed]",
      "text/plain": [
       "<Figure size 432x288 with 1 Axes>"
      ]
     },
     "metadata": {
      "needs_background": "light"
     },
     "output_type": "display_data"
    }
   ],
   "source": [
    "genderCounts = dfcm[\"Gender\"].value_counts()\n",
    "print(genderCounts)\n",
    "sns.barplot(x = genderCounts.index, y = genderCounts.values)\n",
    "plt.title(\"Child's Gender\")\n",
    "plt.xlabel(\"Gender\")\n",
    "plt.ylabel(\"Count\")\n",
    "plt.show()"
   ]
  },
  {
   "cell_type": "code",
   "execution_count": 54,
   "id": "a514f5c0",
   "metadata": {},
   "outputs": [
    {
     "data": {
      "image/png": "[encoded data removed]",
      "text/plain": [
       "<Figure size 432x288 with 1 Axes>"
      ]
     },
     "metadata": {
      "needs_background": "light"
     },
     "output_type": "display_data"
    },
    {
     "data": {
      "image/png": "[encoded data removed]",
      "text/plain": [
       "<Figure size 432x288 with 1 Axes>"
      ]
     },
     "metadata": {
      "needs_background": "light"
     },
     "output_type": "display_data"
    },
    {
     "data": {
      "image/png": "[encoded data removed]",
      "text/plain": [
       "<Figure size 432x288 with 1 Axes>"
      ]
     },
     "metadata": {
      "needs_background": "light"
     },
     "output_type": "display_data"
    }
   ],
   "source": [
    "dfcm[\"Father\"].hist(bins = 10)\n",
    "plt.title(\"Fathers' height\")\n",
    "plt.xlabel(\"Height\")\n",
    "plt.ylabel(\"Count\")\n",
    "plt.show()\n",
    "\n",
    "dfcm[\"Mother\"].hist(bins = 10)\n",
    "plt.title(\"Mothers' height\")\n",
    "plt.xlabel(\"Height\")\n",
    "plt.ylabel(\"Count\")\n",
    "plt.show()\n",
    "\n",
    "dfcm[\"Height\"].hist(bins = 10)\n",
    "plt.title(\"Children's height\")\n",
    "plt.xlabel(\"Height\")\n",
    "plt.ylabel(\"Count\")\n",
    "plt.show()"
   ]
  },
  {
   "cell_type": "code",
   "execution_count": 64,
   "id": "aa885d39",
   "metadata": {},
   "outputs": [
    {
     "data": {
      "image/png": "[encoded data removed]",
      "text/plain": [
       "<Figure size 432x288 with 2 Axes>"
      ]
     },
     "metadata": {
      "needs_background": "light"
     },
     "output_type": "display_data"
    }
   ],
   "source": [
    "cmap = sns.color_palette(\"light:b\", as_cmap=True)\n",
    "sns.heatmap(dfcm.corr(), cmap = cmap)\n",
    "plt.show()"
   ]
  },
  {
   "cell_type": "code",
   "execution_count": 67,
   "id": "a07c044f",
   "metadata": {},
   "outputs": [
    {
     "data": {
      "text/html": [
       "<div>\n",
       "<style scoped>\n",
       "    .dataframe tbody tr th:only-of-type {\n",
       "        vertical-align: middle;\n",
       "    }\n",
       "\n",
       "    .dataframe tbody tr th {\n",
       "        vertical-align: top;\n",
       "    }\n",
       "\n",
       "    .dataframe thead th {\n",
       "        text-align: right;\n",
       "    }\n",
       "</style>\n",
       "<table border=\"1\" class=\"dataframe\">\n",
       "  <thead>\n",
       "    <tr style=\"text-align: right;\">\n",
       "      <th></th>\n",
       "      <th>Father</th>\n",
       "      <th>Mother</th>\n",
       "      <th>Height</th>\n",
       "      <th>Gender_M</th>\n",
       "    </tr>\n",
       "  </thead>\n",
       "  <tbody>\n",
       "    <tr>\n",
       "      <th>602</th>\n",
       "      <td>167.0</td>\n",
       "      <td>157.0</td>\n",
       "      <td>174.0</td>\n",
       "      <td>1</td>\n",
       "    </tr>\n",
       "    <tr>\n",
       "      <th>886</th>\n",
       "      <td>152.0</td>\n",
       "      <td>162.0</td>\n",
       "      <td>152.0</td>\n",
       "      <td>0</td>\n",
       "    </tr>\n",
       "    <tr>\n",
       "      <th>43</th>\n",
       "      <td>179.0</td>\n",
       "      <td>164.0</td>\n",
       "      <td>164.0</td>\n",
       "      <td>1</td>\n",
       "    </tr>\n",
       "    <tr>\n",
       "      <th>49</th>\n",
       "      <td>179.0</td>\n",
       "      <td>159.0</td>\n",
       "      <td>172.0</td>\n",
       "      <td>1</td>\n",
       "    </tr>\n",
       "    <tr>\n",
       "      <th>371</th>\n",
       "      <td>173.0</td>\n",
       "      <td>152.0</td>\n",
       "      <td>172.0</td>\n",
       "      <td>1</td>\n",
       "    </tr>\n",
       "  </tbody>\n",
       "</table>\n",
       "</div>"
      ],
      "text/plain": [
       "     Father  Mother  Height  Gender_M\n",
       "602   167.0   157.0   174.0         1\n",
       "886   152.0   162.0   152.0         0\n",
       "43    179.0   164.0   164.0         1\n",
       "49    179.0   159.0   172.0         1\n",
       "371   173.0   152.0   172.0         1"
      ]
     },
     "execution_count": 67,
     "metadata": {},
     "output_type": "execute_result"
    }
   ],
   "source": [
    "dfModel = pd.get_dummies(dfcm, drop_first = True)\n",
    "dfModel.sample(5)"
   ]
  },
  {
   "cell_type": "code",
   "execution_count": 119,
   "id": "877add3c",
   "metadata": {},
   "outputs": [],
   "source": [
    "from statsmodels.api import OLS, add_constant\n",
    "from sklearn.model_selection import train_test_split, GridSearchCV\n",
    "from sklearn.metrics import mean_absolute_error\n",
    "from sklearn.ensemble import RandomForestRegressor\n",
    "from sklearn.neighbors import KNeighborsRegressor"
   ]
  },
  {
   "cell_type": "code",
   "execution_count": 86,
   "id": "9a92aa33",
   "metadata": {},
   "outputs": [
    {
     "name": "stdout",
     "output_type": "stream",
     "text": [
      "(718, 3) (718,) (180, 3) (180,)\n"
     ]
    }
   ],
   "source": [
    "X = dfModel.drop(\"Height\", axis = 1)\n",
    "y = dfModel.Height\n",
    "XTrain, XTest, yTrain, yTest =  train_test_split(X, y, test_size=0.2, stratify=X.Gender_M, random_state = 42)\n",
    "print(XTrain.shape, yTrain.shape, XTest.shape, yTest.shape)"
   ]
  },
  {
   "cell_type": "code",
   "execution_count": 87,
   "id": "4686ac6c",
   "metadata": {},
   "outputs": [
    {
     "data": {
      "text/html": [
       "<table class=\"simpletable\">\n",
       "<caption>OLS Regression Results</caption>\n",
       "<tr>\n",
       "  <th>Dep. Variable:</th>         <td>Height</td>      <th>  R-squared:         </th> <td>   0.632</td> \n",
       "</tr>\n",
       "<tr>\n",
       "  <th>Model:</th>                   <td>OLS</td>       <th>  Adj. R-squared:    </th> <td>   0.630</td> \n",
       "</tr>\n",
       "<tr>\n",
       "  <th>Method:</th>             <td>Least Squares</td>  <th>  F-statistic:       </th> <td>   408.6</td> \n",
       "</tr>\n",
       "<tr>\n",
       "  <th>Date:</th>             <td>Mon, 08 Nov 2021</td> <th>  Prob (F-statistic):</th> <td>1.82e-154</td>\n",
       "</tr>\n",
       "<tr>\n",
       "  <th>Time:</th>                 <td>15:32:43</td>     <th>  Log-Likelihood:    </th> <td> -2229.0</td> \n",
       "</tr>\n",
       "<tr>\n",
       "  <th>No. Observations:</th>      <td>   718</td>      <th>  AIC:               </th> <td>   4466.</td> \n",
       "</tr>\n",
       "<tr>\n",
       "  <th>Df Residuals:</th>          <td>   714</td>      <th>  BIC:               </th> <td>   4484.</td> \n",
       "</tr>\n",
       "<tr>\n",
       "  <th>Df Model:</th>              <td>     3</td>      <th>                     </th>     <td> </td>    \n",
       "</tr>\n",
       "<tr>\n",
       "  <th>Covariance Type:</th>      <td>nonrobust</td>    <th>                     </th>     <td> </td>    \n",
       "</tr>\n",
       "</table>\n",
       "<table class=\"simpletable\">\n",
       "<tr>\n",
       "      <td></td>        <th>coef</th>     <th>std err</th>      <th>t</th>      <th>P>|t|</th>  <th>[0.025</th>    <th>0.975]</th>  \n",
       "</tr>\n",
       "<tr>\n",
       "  <th>const</th>    <td>   39.6232</td> <td>    7.666</td> <td>    5.168</td> <td> 0.000</td> <td>   24.572</td> <td>   54.675</td>\n",
       "</tr>\n",
       "<tr>\n",
       "  <th>Father</th>   <td>    0.3786</td> <td>    0.033</td> <td>   11.433</td> <td> 0.000</td> <td>    0.314</td> <td>    0.444</td>\n",
       "</tr>\n",
       "<tr>\n",
       "  <th>Mother</th>   <td>    0.3378</td> <td>    0.035</td> <td>    9.521</td> <td> 0.000</td> <td>    0.268</td> <td>    0.407</td>\n",
       "</tr>\n",
       "<tr>\n",
       "  <th>Gender_M</th> <td>   12.9957</td> <td>    0.405</td> <td>   32.124</td> <td> 0.000</td> <td>   12.201</td> <td>   13.790</td>\n",
       "</tr>\n",
       "</table>\n",
       "<table class=\"simpletable\">\n",
       "<tr>\n",
       "  <th>Omnibus:</th>       <td>13.674</td> <th>  Durbin-Watson:     </th> <td>   1.974</td>\n",
       "</tr>\n",
       "<tr>\n",
       "  <th>Prob(Omnibus):</th> <td> 0.001</td> <th>  Jarque-Bera (JB):  </th> <td>  18.206</td>\n",
       "</tr>\n",
       "<tr>\n",
       "  <th>Skew:</th>          <td>-0.203</td> <th>  Prob(JB):          </th> <td>0.000111</td>\n",
       "</tr>\n",
       "<tr>\n",
       "  <th>Kurtosis:</th>      <td> 3.667</td> <th>  Cond. No.          </th> <td>8.78e+03</td>\n",
       "</tr>\n",
       "</table><br/><br/>Notes:<br/>[1] Standard Errors assume that the covariance matrix of the errors is correctly specified.<br/>[2] The condition number is large, 8.78e+03. This might indicate that there are<br/>strong multicollinearity or other numerical problems."
      ],
      "text/plain": [
       "<class 'statsmodels.iolib.summary.Summary'>\n",
       "\"\"\"\n",
       "                            OLS Regression Results                            \n",
       "==============================================================================\n",
       "Dep. Variable:                 Height   R-squared:                       0.632\n",
       "Model:                            OLS   Adj. R-squared:                  0.630\n",
       "Method:                 Least Squares   F-statistic:                     408.6\n",
       "Date:                Mon, 08 Nov 2021   Prob (F-statistic):          1.82e-154\n",
       "Time:                        15:32:43   Log-Likelihood:                -2229.0\n",
       "No. Observations:                 718   AIC:                             4466.\n",
       "Df Residuals:                     714   BIC:                             4484.\n",
       "Df Model:                           3                                         \n",
       "Covariance Type:            nonrobust                                         \n",
       "==============================================================================\n",
       "                 coef    std err          t      P>|t|      [0.025      0.975]\n",
       "------------------------------------------------------------------------------\n",
       "const         39.6232      7.666      5.168      0.000      24.572      54.675\n",
       "Father         0.3786      0.033     11.433      0.000       0.314       0.444\n",
       "Mother         0.3378      0.035      9.521      0.000       0.268       0.407\n",
       "Gender_M      12.9957      0.405     32.124      0.000      12.201      13.790\n",
       "==============================================================================\n",
       "Omnibus:                       13.674   Durbin-Watson:                   1.974\n",
       "Prob(Omnibus):                  0.001   Jarque-Bera (JB):               18.206\n",
       "Skew:                          -0.203   Prob(JB):                     0.000111\n",
       "Kurtosis:                       3.667   Cond. No.                     8.78e+03\n",
       "==============================================================================\n",
       "\n",
       "Notes:\n",
       "[1] Standard Errors assume that the covariance matrix of the errors is correctly specified.\n",
       "[2] The condition number is large, 8.78e+03. This might indicate that there are\n",
       "strong multicollinearity or other numerical problems.\n",
       "\"\"\""
      ]
     },
     "execution_count": 87,
     "metadata": {},
     "output_type": "execute_result"
    }
   ],
   "source": [
    "XTrainc = add_constant(XTrain)\n",
    "lrModel = OLS(yTrain, XTrainc)\n",
    "lrFitted = lrModel.fit()\n",
    "lrFitted.summary()"
   ]
  },
  {
   "cell_type": "code",
   "execution_count": 103,
   "id": "ce3994cb",
   "metadata": {},
   "outputs": [
    {
     "name": "stdout",
     "output_type": "stream",
     "text": [
      "3.772222222222222\n"
     ]
    }
   ],
   "source": [
    "XTestc = add_constant(XTest)\n",
    "yPred = np.around(lrFitted.predict(XTestc), 0)\n",
    "lrmae = mean_absolute_error(yTest, yPred)\n",
    "print(lrmae)"
   ]
  },
  {
   "cell_type": "code",
   "execution_count": 110,
   "id": "7990137b",
   "metadata": {},
   "outputs": [
    {
     "name": "stdout",
     "output_type": "stream",
     "text": [
      "3.65\n"
     ]
    }
   ],
   "source": [
    "params = {\"n_estimators\": np.arange(301, 322, 2), \"max_depth\": np.arange(3, 21, 2)}\n",
    "rf = RandomForestRegressor(random_state = 42, n_jobs = -1, criterion = \"mae\")\n",
    "grid = GridSearchCV(rf, param_grid = params, n_jobs = -1, cv = 5)\n",
    "grid.fit(XTrain, yTrain)\n",
    "bestrf = grid.best_estimator_\n",
    "yPredRF = np.around(bestrf.predict(XTest), 0)\n",
    "rfmae = mean_absolute_error(yTest, yPredRF)\n",
    "print(rfmae)"
   ]
  },
  {
   "cell_type": "code",
   "execution_count": 111,
   "id": "bf810852",
   "metadata": {},
   "outputs": [
    {
     "data": {
      "text/plain": [
       "{'max_depth': 5, 'n_estimators': 313}"
      ]
     },
     "execution_count": 111,
     "metadata": {},
     "output_type": "execute_result"
    }
   ],
   "source": [
    "grid.best_params_"
   ]
  },
  {
   "cell_type": "code",
   "execution_count": 112,
   "id": "fb37fa94",
   "metadata": {},
   "outputs": [
    {
     "data": {
      "text/plain": [
       "array([0.19144162, 0.14809326, 0.66046512])"
      ]
     },
     "execution_count": 112,
     "metadata": {},
     "output_type": "execute_result"
    }
   ],
   "source": [
    "bestrf.feature_importances_"
   ]
  },
  {
   "cell_type": "code",
   "execution_count": 118,
   "id": "9f980bb2",
   "metadata": {},
   "outputs": [
    {
     "data": {
      "image/png": "[encoded data removed]",
      "text/plain": [
       "<Figure size 432x288 with 1 Axes>"
      ]
     },
     "metadata": {
      "needs_background": "light"
     },
     "output_type": "display_data"
    }
   ],
   "source": [
    "featureImportance = pd.DataFrame({\"Features\": X.columns, \"Percentage\": bestrf.feature_importances_})\n",
    "featureImportance = featureImportance.sort_values(\"Percentage\", ascending = False)\n",
    "sns.barplot(x=\"Features\", y = \"Percentage\", data = featureImportance)\n",
    "plt.title(\"Feature importance\")\n",
    "plt.show()"
   ]
  },
  {
   "cell_type": "code",
   "execution_count": 127,
   "id": "ff18bb32",
   "metadata": {},
   "outputs": [
    {
     "name": "stdout",
     "output_type": "stream",
     "text": [
      "4.45\n"
     ]
    }
   ],
   "source": [
    "params = {\"n_neighbors\": np.arange(1, 502, 2), \"p\": np.arange(1, 4)}\n",
    "knn = KNeighborsRegressor(n_jobs = -1, weights = \"uniform\")\n",
    "grid = GridSearchCV(knn, param_grid = params, n_jobs = -1, cv = 5)\n",
    "grid.fit(XTrain, yTrain)\n",
    "bestknn = grid.best_estimator_\n",
    "yPredKNN = np.around(bestknn.predict(XTest), 0)\n",
    "knnmae = mean_absolute_error(yTest, yPredKNN)\n",
    "print(knnmae)"
   ]
  },
  {
   "cell_type": "code",
   "execution_count": 130,
   "id": "136a27d7",
   "metadata": {},
   "outputs": [
    {
     "data": {
      "text/plain": [
       "['./Model/model.joblib']"
      ]
     },
     "execution_count": 130,
     "metadata": {},
     "output_type": "execute_result"
    }
   ],
   "source": [
    "from joblib import dump\n",
    "dump(bestrf, './Model/model.joblib') "
   ]
  },
  {
   "cell_type": "code",
   "execution_count": null,
   "id": "66344b4c",
   "metadata": {},
   "outputs": [],
   "source": []
  }
 ],
 "metadata": {
  "kernelspec": {
   "display_name": "Python 3",
   "language": "python",
   "name": "python3"
  },
  "language_info": {
   "codemirror_mode": {
    "name": "ipython",
    "version": 3
   },
   "file_extension": ".py",
   "mimetype": "text/x-python",
   "name": "python",
   "nbconvert_exporter": "python",
   "pygments_lexer": "ipython3",
   "version": "3.8.8"
  }
 },
 "nbformat": 4,
 "nbformat_minor": 5
}
